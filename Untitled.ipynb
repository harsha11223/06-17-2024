{
 "cells": [
  {
   "cell_type": "code",
   "execution_count": 1,
   "id": "71460843",
   "metadata": {},
   "outputs": [],
   "source": [
    "a=10"
   ]
  },
  {
   "cell_type": "code",
   "execution_count": 3,
   "id": "b6209c5c",
   "metadata": {},
   "outputs": [],
   "source": [
    "b=2"
   ]
  },
  {
   "cell_type": "code",
   "execution_count": 4,
   "id": "55dfa063",
   "metadata": {},
   "outputs": [],
   "source": [
    "c=10"
   ]
  },
  {
   "cell_type": "code",
   "execution_count": 5,
   "id": "00466db5",
   "metadata": {},
   "outputs": [],
   "source": [
    "d=14"
   ]
  },
  {
   "cell_type": "code",
   "execution_count": 6,
   "id": "0adc1dfa",
   "metadata": {},
   "outputs": [],
   "source": [
    "e=11"
   ]
  },
  {
   "cell_type": "code",
   "execution_count": 7,
   "id": "f0203240",
   "metadata": {},
   "outputs": [],
   "source": [
    "f=24"
   ]
  },
  {
   "cell_type": "code",
   "execution_count": null,
   "id": "ceeb1ed1",
   "metadata": {},
   "outputs": [],
   "source": []
  }
 ],
 "metadata": {
  "kernelspec": {
   "display_name": "Python 3 (ipykernel)",
   "language": "python",
   "name": "python3"
  },
  "language_info": {
   "codemirror_mode": {
    "name": "ipython",
    "version": 3
   },
   "file_extension": ".py",
   "mimetype": "text/x-python",
   "name": "python",
   "nbconvert_exporter": "python",
   "pygments_lexer": "ipython3",
   "version": "3.9.12"
  }
 },
 "nbformat": 4,
 "nbformat_minor": 5
}
